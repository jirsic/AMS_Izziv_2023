{
 "cells": [
  {
   "cell_type": "code",
   "execution_count": 49,
   "id": "043b649c-fc4e-40a9-b66f-9c475f22b865",
   "metadata": {},
   "outputs": [],
   "source": [
    "import re\n",
    "from glob import glob\n",
    "import time\n",
    "import random \n",
    "import numpy as np\n",
    "import pandas as pd\n",
    "import torch\n",
    "import torch.nn as nn\n",
    "import torch.nn.functional as f\n",
    "import torchmetrics\n",
    "from torchmetrics.classification import MulticlassMatthewsCorrCoef\n",
    "import open3d as o3\n",
    "from open3d.web_visualizer import draw\n",
    "from torch.utils.data import DataLoader\n",
    "from s3dis_dataset import S3DIS\n",
    "\n",
    "import matplotlib.pyplot as plt\n",
    "import warnings\n",
    "\n",
    "warnings.filterwarnings('ignore')"
   ]
  },
  {
   "cell_type": "markdown",
   "id": "17e95a64-bd0e-4e0c-be15-b9384bef732c",
   "metadata": {},
   "source": [
    "####  <font color='SpringGreen'> Initialize variables for entire notebook </font> "
   ]
  },
  {
   "cell_type": "code",
   "execution_count": 82,
   "id": "e0893940-1b21-4852-8929-5972d5378a09",
   "metadata": {},
   "outputs": [],
   "source": [
    "ROOT='Registration cases-Copy1'\n",
    "\n",
    "NUM_TRAIN_POINTS=4000\n",
    "NUM_TEST_POINTS=4000\n",
    "\n",
    "BATCH_SIZE=5"
   ]
  },
  {
   "cell_type": "code",
   "execution_count": 83,
   "id": "b5d963d8-2f3a-41b8-a740-083b4b277c79",
   "metadata": {},
   "outputs": [],
   "source": [
    "CATEGORIES={\n",
    "    'vessel'    :   0,\n",
    "    'aneurysm'  :   1\n",
    "}\n",
    "\n",
    "COLOR_MAP={\n",
    "    0   :   (0, 255, 0),\n",
    "    1   :   (0, 0, 255)\n",
    "}\n",
    "\n",
    "v_map_colors=np.vectorize(lambda x:COLOR_MAP[x])\n",
    "NUM_CLASSES=len(CATEGORIES)"
   ]
  },
  {
   "cell_type": "markdown",
   "id": "36a7b7de-2e15-471f-b7c3-a6642648d7bd",
   "metadata": {},
   "source": [
    "#### <font color='SpringGreen'> Get Datasets and Dataloaders </font> "
   ]
  },
  {
   "cell_type": "code",
   "execution_count": 84,
   "id": "35d3e52d-5d1b-4a0e-a79a-62bcead8d587",
   "metadata": {},
   "outputs": [],
   "source": [
    "data_train=S3DIS(ROOT, area_nums=0, npoints=NUM_TRAIN_POINTS, r_prob=0.25)\n",
    "data_valid=S3DIS(ROOT, area_nums=1, npoints=NUM_TRAIN_POINTS, r_prob=0.25)\n",
    "data_test=S3DIS(ROOT, area_nums=2, split='test', npoints=NUM_TRAIN_POINTS)\n",
    "\n",
    "train_dataloader=DataLoader(data_train, batch_size=BATCH_SIZE, shuffle=True)\n",
    "valid_dataloader=DataLoader(data_valid, batch_size=BATCH_SIZE, shuffle=True)\n",
    "test_dataloader=DataLoader(data_test, batch_size=BATCH_SIZE, shuffle=True)"
   ]
  },
  {
   "cell_type": "markdown",
   "id": "b9b6888f-18f0-43a3-bc58-2e90d9cc222c",
   "metadata": {},
   "source": [
    "#### <font color='SpringGreen'> Get an example and display it</font> "
   ]
  },
  {
   "cell_type": "code",
   "execution_count": 85,
   "id": "7e15947e-9a22-4b01-94b6-016112ec84c0",
   "metadata": {},
   "outputs": [],
   "source": [
    "points, targets = data_train[25]\n",
    "pcd = o3.geometry.PointCloud()\n",
    "pcd.points = o3.utility.Vector3dVector(points)\n",
    "pcd.colors = o3.utility.Vector3dVector(np.vstack(v_map_colors(targets)).T/255)\n",
    "#o3.visualization.draw_plotly([pcd])\n",
    "o3.visualization.draw_geometries([pcd])"
   ]
  },
  {
   "cell_type": "markdown",
   "id": "8cfc6a58-e284-4aab-9eff-58f11f5d7604",
   "metadata": {},
   "source": [
    "<font color='SpringGreen'>Investigate class distributions in the Training dataset</font> "
   ]
  },
  {
   "cell_type": "code",
   "execution_count": 86,
   "id": "34c7b400-68f6-433d-87a2-0ce3e834760a",
   "metadata": {},
   "outputs": [],
   "source": [
    "total_train_targets=[]\n",
    "\n",
    "for(_, targets) in train_dataloader:\n",
    "    total_train_targets+=targets.reshape(-1).numpy().tolist()\n",
    "\n",
    "total_train_targets=np.array(total_train_targets)\n"
   ]
  },
  {
   "cell_type": "markdown",
   "id": "15cfe1e1-8e38-45c0-b32d-d069c56f3176",
   "metadata": {},
   "source": [
    "#### <font color='SpringGreen'> Plot Barchart of category counts</font> "
   ]
  },
  {
   "cell_type": "code",
   "execution_count": 87,
   "id": "f0d8f682-2d4a-4e59-8f6f-3f24c7c51bbc",
   "metadata": {},
   "outputs": [
    {
     "data": {
      "text/plain": [
       "Text(0.5, 1.0, 'Frequency of each category (Training)')"
      ]
     },
     "execution_count": 87,
     "metadata": {},
     "output_type": "execute_result"
    },
    {
     "data": {
      "image/png": "[encoded data removed]",
      "text/plain": [
       "<Figure size 640x480 with 1 Axes>"
      ]
     },
     "metadata": {},
     "output_type": "display_data"
    }
   ],
   "source": [
    "class_bins=np.bincount(total_train_targets)\n",
    "\n",
    "plt.bar(list(CATEGORIES.keys()), class_bins, \n",
    "        color=[np.array(val)/255. for val in list(COLOR_MAP.values())],\n",
    "        edgecolor='black')\n",
    "plt.xticks(list(CATEGORIES.keys()), list(CATEGORIES.keys()), size=12, rotation=90)\n",
    "plt.ylabel('Counts', size=12)\n",
    "plt.title('Frequency of each category (Training)', size=14, pad=20)"
   ]
  },
  {
   "cell_type": "markdown",
   "id": "4045aa47-37d6-47f0-8fd6-d19d113e520a",
   "metadata": {},
   "source": [
    "#### <font color='SpringGreen'> Get Segmentation Version of Point Net</font> "
   ]
  },
  {
   "cell_type": "code",
   "execution_count": 88,
   "id": "2b59ada1-9116-4005-bd21-14ff1631dd9b",
   "metadata": {},
   "outputs": [],
   "source": [
    "from point_net import PointNetSegHead\n",
    "\n",
    "points, targets=next(iter(train_dataloader))\n"
   ]
  },
  {
   "cell_type": "code",
   "execution_count": 89,
   "id": "5c700f11-3ad5-4ec6-9650-8401ca969568",
   "metadata": {},
   "outputs": [
    {
     "name": "stdout",
     "output_type": "stream",
     "text": [
      "Seg shape: torch.Size([5, 4000, 2])\n"
     ]
    }
   ],
   "source": [
    "from point_net import PointNetSegHead\n",
    "\n",
    "points, targets=next(iter(train_dataloader))\n",
    "seg_model=PointNetSegHead(num_points=NUM_TRAIN_POINTS, m=NUM_CLASSES)\n",
    "out, _, _=seg_model(points.transpose(2,1))\n",
    "print(f'Seg shape: {out.shape}')"
   ]
  },
  {
   "cell_type": "markdown",
   "id": "b84c2f1c-e403-49cd-bbf1-b4875023ecdc",
   "metadata": {},
   "source": [
    "#### <font color='SpringGreen'> Start training</font> "
   ]
  },
  {
   "cell_type": "code",
   "execution_count": 90,
   "id": "fde65ef4-7159-41a5-b56d-8324b7fca589",
   "metadata": {},
   "outputs": [
    {
     "data": {
      "text/plain": [
       "'cuda'"
      ]
     },
     "execution_count": 90,
     "metadata": {},
     "output_type": "execute_result"
    }
   ],
   "source": [
    "DEVICE='cuda' if torch.cuda.is_available() else 'cpu'\n",
    "DEVICE"
   ]
  },
  {
   "cell_type": "markdown",
   "id": "0af5c8b5-12f7-4be6-a534-a3d2d413f49c",
   "metadata": {},
   "source": [
    "#### <font color='SpringGreen'>Train hyperparameters</font> "
   ]
  },
  {
   "cell_type": "code",
   "execution_count": 91,
   "id": "4faeb757-18d0-4953-85d3-9ff02d0172e5",
   "metadata": {},
   "outputs": [],
   "source": [
    "import torch.optim as optim\n",
    "from point_net_loss import PointNetSegLoss\n",
    "\n",
    "EPOCHS=20\n",
    "LR=0.001\n",
    "\n",
    "alpha=np.ones(len(CATEGORIES))\n",
    "alpha[0:3]*=0.25\n",
    "alpha[-1]*=0.75\n",
    "\n",
    "gamma=1\n",
    "\n",
    "optimizer=optim.Adam(seg_model.parameters(), lr=LR)\n",
    "scheduler=torch.optim.lr_scheduler.CyclicLR(optimizer, base_lr=1e-6, max_lr=1e-3, step_size_up=1000, cycle_momentum=False)\n",
    "\n",
    "criterion=PointNetSegLoss(alpha=alpha, gamma=gamma, dice=True).to(DEVICE)\n",
    "seg_model=seg_model.to(DEVICE)\n"
   ]
  },
  {
   "cell_type": "code",
   "execution_count": 92,
   "id": "e003981c-54d7-480e-9647-e858577086b0",
   "metadata": {},
   "outputs": [],
   "source": [
    "mcc_metric = MulticlassMatthewsCorrCoef(num_classes=NUM_CLASSES).to(DEVICE)"
   ]
  },
  {
   "cell_type": "code",
   "execution_count": 93,
   "id": "feb512ab-c12b-4daa-934f-ea36104cc0bb",
   "metadata": {},
   "outputs": [],
   "source": [
    "def compute_iou(targets, predictions):\n",
    "\n",
    "    targets = targets.reshape(-1)\n",
    "    predictions = predictions.reshape(-1)\n",
    "\n",
    "    intersection = torch.sum(predictions == targets) # true positives\n",
    "    union = len(predictions) + len(targets) - intersection\n",
    "\n",
    "    return intersection / union"
   ]
  },
  {
   "cell_type": "code",
   "execution_count": 94,
   "id": "43b9164d-a085-46fb-8d33-273d47c798c4",
   "metadata": {},
   "outputs": [],
   "source": [
    "best_iou = 0.6\n",
    "best_mcc = 0.6\n"
   ]
  },
  {
   "cell_type": "code",
   "execution_count": 95,
   "id": "88d273cd-4268-4cae-b121-b80853b9a00a",
   "metadata": {},
   "outputs": [
    {
     "name": "stdout",
     "output_type": "stream",
     "text": [
      "\t [1: 0/25] train loss: 0.9303 accuracy: 0.4827 mcc: -0.0483 iou: 0.3181\n",
      "Epoch: 1 - Train Loss: 0.9483 - Train Accuracy: 0.4627 - Train MCC: -0.0555 - Train IOU: 0.3027\n",
      "\t [1: 0/7] valid loss: 0.4544 accuracy: 0.8094 mcc: -0.0286 iou: 0.6799\n",
      "Epoch: 1 - Valid Loss: 0.4884 - Valid Accuracy: 0.7483 - Valid MCC: 0.0317 - Valid IOU: 0.6650\n",
      "\t [2: 0/25] train loss: 1.1147 accuracy: 0.3445 mcc: -0.2741 iou: 0.2081\n",
      "Epoch: 2 - Train Loss: 0.9372 - Train Accuracy: 0.4577 - Train MCC: -0.0285 - Train IOU: 0.2987\n",
      "\t [2: 0/7] valid loss: 0.6051 accuracy: 0.6890 mcc: -0.1776 iou: 0.5256\n",
      "Epoch: 2 - Valid Loss: 0.5724 - Valid Accuracy: 0.6537 - Valid MCC: -0.0747 - Valid IOU: 0.5309\n",
      "\t [3: 0/25] train loss: 1.0982 accuracy: 0.3426 mcc: -0.2851 iou: 0.2067\n",
      "Epoch: 3 - Train Loss: 0.9216 - Train Accuracy: 0.4688 - Train MCC: -0.0005 - Train IOU: 0.3079\n",
      "\t [3: 0/7] valid loss: 7.6809 accuracy: 0.5566 mcc: 0.0165 iou: 0.3856\n",
      "Epoch: 3 - Valid Loss: 2.2321 - Valid Accuracy: 0.4756 - Valid MCC: 0.1077 - Valid IOU: 0.3642\n",
      "\t [4: 0/25] train loss: 0.9002 accuracy: 0.4948 mcc: -0.0369 iou: 0.3287\n",
      "Epoch: 4 - Train Loss: 0.9111 - Train Accuracy: 0.4720 - Train MCC: -0.0112 - Train IOU: 0.3107\n",
      "\t [4: 0/7] valid loss: 0.8303 accuracy: 0.5324 mcc: 0.0810 iou: 0.3628\n",
      "Epoch: 4 - Valid Loss: 1.3174 - Valid Accuracy: 0.4232 - Valid MCC: 0.0705 - Valid IOU: 0.3002\n",
      "\t [5: 0/25] train loss: 0.8786 accuracy: 0.5132 mcc: -0.1060 iou: 0.3452\n",
      "Epoch: 5 - Train Loss: 0.8768 - Train Accuracy: 0.4929 - Train MCC: 0.0309 - Train IOU: 0.3282\n",
      "\t [5: 0/7] valid loss: 13.3666 accuracy: 0.6305 mcc: 0.2063 iou: 0.4603\n",
      "Epoch: 5 - Valid Loss: 1563.4424 - Valid Accuracy: 0.5940 - Valid MCC: 0.0818 - Valid IOU: 0.4600\n",
      "\t [6: 0/25] train loss: 0.7280 accuracy: 0.6355 mcc: 0.0962 iou: 0.4657\n",
      "Epoch: 6 - Train Loss: 0.8323 - Train Accuracy: 0.5202 - Train MCC: 0.0616 - Train IOU: 0.3530\n",
      "\t [6: 0/7] valid loss: 0.5987 accuracy: 0.9226 mcc: -0.0350 iou: 0.8564\n",
      "Epoch: 6 - Valid Loss: 10.5786 - Valid Accuracy: 0.6378 - Valid MCC: -0.0808 - Valid IOU: 0.5209\n",
      "\t [7: 0/25] train loss: 0.7727 accuracy: 0.5720 mcc: 0.0513 iou: 0.4005\n",
      "Epoch: 7 - Train Loss: 0.8320 - Train Accuracy: 0.5200 - Train MCC: 0.0070 - Train IOU: 0.3533\n",
      "\t [7: 0/7] valid loss: 6.8217 accuracy: 0.6261 mcc: -0.1175 iou: 0.4557\n",
      "Epoch: 7 - Valid Loss: 124.4114 - Valid Accuracy: 0.4898 - Valid MCC: 0.0025 - Valid IOU: 0.3646\n",
      "\t [8: 0/25] train loss: 0.6805 accuracy: 0.6498 mcc: 0.1879 iou: 0.4813\n",
      "Epoch: 8 - Train Loss: 0.8056 - Train Accuracy: 0.5358 - Train MCC: 0.0360 - Train IOU: 0.3685\n",
      "\t [8: 0/7] valid loss: 2.9403 accuracy: 0.7693 mcc: 0.1308 iou: 0.6252\n",
      "Epoch: 8 - Valid Loss: 121.4588 - Valid Accuracy: 0.5969 - Valid MCC: -0.0020 - Valid IOU: 0.4625\n",
      "\t [9: 0/25] train loss: 0.7642 accuracy: 0.5515 mcc: 0.1370 iou: 0.3807\n",
      "Epoch: 9 - Train Loss: 0.7814 - Train Accuracy: 0.5462 - Train MCC: 0.0395 - Train IOU: 0.3774\n",
      "\t [9: 0/7] valid loss: 0.4132 accuracy: 0.8163 mcc: 0.0075 iou: 0.6896\n",
      "Epoch: 9 - Valid Loss: 3.2375 - Valid Accuracy: 0.7464 - Valid MCC: -0.0738 - Valid IOU: 0.6639\n",
      "\t [10: 0/25] train loss: 0.7483 accuracy: 0.5756 mcc: 0.0452 iou: 0.4041\n",
      "Epoch: 10 - Train Loss: 0.7487 - Train Accuracy: 0.5690 - Train MCC: 0.0100 - Train IOU: 0.3988\n",
      "\t [10: 0/7] valid loss: 528.9479 accuracy: 0.8660 mcc: 0.0152 iou: 0.7637\n",
      "Epoch: 10 - Valid Loss: 76.6015 - Valid Accuracy: 0.7699 - Valid MCC: 0.0264 - Valid IOU: 0.6978\n",
      "\t [11: 0/25] train loss: 0.8437 accuracy: 0.5085 mcc: -0.1463 iou: 0.3410\n",
      "Epoch: 11 - Train Loss: 0.6861 - Train Accuracy: 0.6159 - Train MCC: 0.0420 - Train IOU: 0.4468\n",
      "\t [11: 0/7] valid loss: 46.7151 accuracy: 0.7307 mcc: -0.0247 iou: 0.5756\n",
      "Epoch: 11 - Valid Loss: 10.9722 - Valid Accuracy: 0.7431 - Valid MCC: -0.0230 - Valid IOU: 0.6660\n",
      "\t [12: 0/25] train loss: 0.6635 accuracy: 0.6323 mcc: -0.0713 iou: 0.4623\n",
      "Epoch: 12 - Train Loss: 0.6490 - Train Accuracy: 0.6381 - Train MCC: 0.0404 - Train IOU: 0.4719\n",
      "\t [12: 0/7] valid loss: 9.4832 accuracy: 0.8551 mcc: -0.0777 iou: 0.7468\n",
      "Epoch: 12 - Valid Loss: 15.6444 - Valid Accuracy: 0.7513 - Valid MCC: -0.0032 - Valid IOU: 0.6683\n",
      "\t [13: 0/25] train loss: 0.4907 accuracy: 0.7739 mcc: 0.0004 iou: 0.6313\n",
      "Epoch: 13 - Train Loss: 0.6069 - Train Accuracy: 0.6661 - Train MCC: 0.0428 - Train IOU: 0.5031\n",
      "\t [13: 0/7] valid loss: 107.2484 accuracy: 0.7607 mcc: -0.1227 iou: 0.6138\n",
      "Epoch: 13 - Valid Loss: 15.7446 - Valid Accuracy: 0.7625 - Valid MCC: -0.0520 - Valid IOU: 0.6780\n",
      "\t [14: 0/25] train loss: 0.5859 accuracy: 0.6755 mcc: 0.1744 iou: 0.5099\n",
      "Epoch: 14 - Train Loss: 0.5669 - Train Accuracy: 0.6932 - Train MCC: 0.0422 - Train IOU: 0.5335\n",
      "\t [14: 0/7] valid loss: 6.7856 accuracy: 0.6841 mcc: 0.0065 iou: 0.5199\n",
      "Epoch: 14 - Valid Loss: 1.4246 - Valid Accuracy: 0.7201 - Valid MCC: -0.0228 - Valid IOU: 0.6353\n",
      "\t [15: 0/25] train loss: 0.4918 accuracy: 0.7538 mcc: 0.0071 iou: 0.6049\n",
      "Epoch: 15 - Train Loss: 0.5074 - Train Accuracy: 0.7296 - Train MCC: 0.0010 - Train IOU: 0.5781\n",
      "\t [15: 0/7] valid loss: 13.7759 accuracy: 0.8257 mcc: -0.0115 iou: 0.7031\n",
      "Epoch: 15 - Valid Loss: 6.1776 - Valid Accuracy: 0.7532 - Valid MCC: 0.0124 - Valid IOU: 0.6810\n",
      "\t [16: 0/25] train loss: 0.4032 accuracy: 0.8195 mcc: 0.1070 iou: 0.6943\n",
      "Epoch: 16 - Train Loss: 0.4907 - Train Accuracy: 0.7317 - Train MCC: 0.0153 - Train IOU: 0.5813\n",
      "\t [16: 0/7] valid loss: 0.5392 accuracy: 0.6809 mcc: -0.1007 iou: 0.5161\n",
      "Epoch: 16 - Valid Loss: 9.0357 - Valid Accuracy: 0.5867 - Valid MCC: -0.0920 - Valid IOU: 0.4523\n",
      "\t [17: 0/25] train loss: 0.5601 accuracy: 0.6757 mcc: -0.0480 iou: 0.5102\n",
      "Epoch: 17 - Train Loss: 0.4296 - Train Accuracy: 0.7735 - Train MCC: 0.0285 - Train IOU: 0.6357\n",
      "\t [17: 0/7] valid loss: 0.4968 accuracy: 0.7517 mcc: -0.0262 iou: 0.6022\n",
      "Epoch: 17 - Valid Loss: 1.2001 - Valid Accuracy: 0.7586 - Valid MCC: -0.0218 - Valid IOU: 0.6837\n",
      "\t [18: 0/25] train loss: 0.4000 accuracy: 0.8048 mcc: -0.0450 iou: 0.6734\n",
      "Epoch: 18 - Train Loss: 0.3986 - Train Accuracy: 0.7896 - Train MCC: -0.0046 - Train IOU: 0.6551\n",
      "\t [18: 0/7] valid loss: 1.6855 accuracy: 0.8184 mcc: 0.2921 iou: 0.6926\n",
      "Epoch: 18 - Valid Loss: 0.6069 - Valid Accuracy: 0.8022 - Valid MCC: 0.0256 - Valid IOU: 0.7470\n",
      "\t [19: 0/25] train loss: 0.3609 accuracy: 0.7968 mcc: 0.0282 iou: 0.6622\n",
      "Epoch: 19 - Train Loss: 0.3709 - Train Accuracy: 0.7993 - Train MCC: -0.0108 - Train IOU: 0.6680\n",
      "\t [19: 0/7] valid loss: 0.5080 accuracy: 0.7272 mcc: -0.0879 iou: 0.5713\n",
      "Epoch: 19 - Valid Loss: 2.9831 - Valid Accuracy: 0.5895 - Valid MCC: -0.0166 - Valid IOU: 0.4636\n",
      "\t [20: 0/25] train loss: 0.5288 accuracy: 0.7043 mcc: -0.0419 iou: 0.5436\n",
      "Epoch: 20 - Train Loss: 0.3536 - Train Accuracy: 0.8056 - Train MCC: 0.0146 - Train IOU: 0.6776\n",
      "\t [20: 0/7] valid loss: 0.5848 accuracy: 0.7065 mcc: -0.0794 iou: 0.5462\n",
      "Epoch: 20 - Valid Loss: 2.1074 - Valid Accuracy: 0.7202 - Valid MCC: -0.0386 - Valid IOU: 0.6182\n"
     ]
    }
   ],
   "source": [
    "train_loss = []\n",
    "train_accuracy = []\n",
    "train_mcc = []\n",
    "train_iou = []\n",
    "valid_loss = []\n",
    "valid_accuracy = []\n",
    "valid_mcc = []\n",
    "valid_iou = []\n",
    "\n",
    "num_train_batch = int(np.ceil(len(data_train)/BATCH_SIZE))\n",
    "num_valid_batch = int(np.ceil(len(data_valid)/BATCH_SIZE))\n",
    "\n",
    "for epoch in range(1, EPOCHS + 1):\n",
    "    # place model in training mode\n",
    "    seg_model = seg_model.train()\n",
    "    _train_loss = []\n",
    "    _train_accuracy = []\n",
    "    _train_mcc = []\n",
    "    _train_iou = []\n",
    "    for i, (points, targets) in enumerate(train_dataloader, 0):\n",
    "\n",
    "        points = points.transpose(2, 1).to(DEVICE)\n",
    "        targets = targets.squeeze().to(DEVICE)\n",
    "        \n",
    "        # zero gradients\n",
    "        optimizer.zero_grad()\n",
    "        \n",
    "        # get predicted class logits\n",
    "        preds, _, _ = seg_model(points)\n",
    "\n",
    "        # get class predictions\n",
    "        pred_choice = torch.softmax(preds, dim=2).argmax(dim=2)\n",
    "\n",
    "        # get loss and perform backprop\n",
    "        loss = criterion(preds, targets, pred_choice) \n",
    "        loss.backward()\n",
    "        optimizer.step()\n",
    "        scheduler.step() # update learning rate\n",
    "        \n",
    "        # get metrics\n",
    "        correct = pred_choice.eq(targets.data).cpu().sum()\n",
    "        accuracy = correct/float(BATCH_SIZE*NUM_TRAIN_POINTS)\n",
    "        mcc = mcc_metric(preds.transpose(2, 1), targets)\n",
    "        iou = compute_iou(targets, pred_choice)\n",
    "\n",
    "        # update epoch loss and accuracy\n",
    "        _train_loss.append(loss.item())\n",
    "        _train_accuracy.append(accuracy)\n",
    "        _train_mcc.append(mcc.item())\n",
    "        _train_iou.append(iou.item())\n",
    "\n",
    "        if i % 100 == 0:\n",
    "            print(f'\\t [{epoch}: {i}/{num_train_batch}] ' \\\n",
    "                  + f'train loss: {loss.item():.4f} ' \\\n",
    "                  + f'accuracy: {accuracy:.4f} ' \\\n",
    "                  + f'mcc: {mcc:.4f} ' \\\n",
    "                  + f'iou: {iou:.4f}')\n",
    "        \n",
    "    train_loss.append(np.mean(_train_loss))\n",
    "    train_accuracy.append(np.mean(_train_accuracy))\n",
    "    train_mcc.append(np.mean(_train_mcc))\n",
    "    train_iou.append(np.mean(_train_iou))\n",
    "\n",
    "    print(f'Epoch: {epoch} - Train Loss: {train_loss[-1]:.4f} ' \\\n",
    "          + f'- Train Accuracy: {train_accuracy[-1]:.4f} ' \\\n",
    "          + f'- Train MCC: {train_mcc[-1]:.4f} ' \\\n",
    "          + f'- Train IOU: {train_iou[-1]:.4f}')\n",
    "\n",
    "    # pause to cool down\n",
    "    time.sleep(4)\n",
    "\n",
    "    # get test results after each epoch\n",
    "    with torch.no_grad():\n",
    "\n",
    "        # place model in evaluation mode\n",
    "        seg_model = seg_model.eval()\n",
    "\n",
    "        _valid_loss = []\n",
    "        _valid_accuracy = []\n",
    "        _valid_mcc = []\n",
    "        _valid_iou = []\n",
    "        for i, (points, targets) in enumerate(valid_dataloader, 0):\n",
    "\n",
    "            points = points.transpose(2, 1).to(DEVICE)\n",
    "            targets = targets.squeeze().to(DEVICE)\n",
    "\n",
    "            preds, _, A = seg_model(points)\n",
    "            pred_choice = torch.softmax(preds, dim=2).argmax(dim=2)\n",
    "\n",
    "            loss = criterion(preds, targets, pred_choice) \n",
    "\n",
    "            # get metrics\n",
    "            correct = pred_choice.eq(targets.data).cpu().sum()\n",
    "            accuracy = correct/float(BATCH_SIZE*NUM_TRAIN_POINTS)\n",
    "            mcc = mcc_metric(preds.transpose(2, 1), targets)\n",
    "            iou = compute_iou(targets, pred_choice)\n",
    "\n",
    "            # update epoch loss and accuracy\n",
    "            _valid_loss.append(loss.item())\n",
    "            _valid_accuracy.append(accuracy)\n",
    "            _valid_mcc.append(mcc.item())\n",
    "            _valid_iou.append(iou.item())\n",
    "\n",
    "            if i % 100 == 0:\n",
    "                print(f'\\t [{epoch}: {i}/{num_valid_batch}] ' \\\n",
    "                  + f'valid loss: {loss.item():.4f} ' \\\n",
    "                  + f'accuracy: {accuracy:.4f} '\n",
    "                  + f'mcc: {mcc:.4f} ' \\\n",
    "                  + f'iou: {iou:.4f}')\n",
    "        \n",
    "        valid_loss.append(np.mean(_valid_loss))\n",
    "        valid_accuracy.append(np.mean(_valid_accuracy))\n",
    "        valid_mcc.append(np.mean(_valid_mcc))\n",
    "        valid_iou.append(np.mean(_valid_iou))\n",
    "        print(f'Epoch: {epoch} - Valid Loss: {valid_loss[-1]:.4f} ' \\\n",
    "              + f'- Valid Accuracy: {valid_accuracy[-1]:.4f} ' \\\n",
    "              + f'- Valid MCC: {valid_mcc[-1]:.4f} ' \\\n",
    "              + f'- Valid IOU: {valid_iou[-1]:.4f}')\n",
    "\n",
    "\n",
    "        # pause to cool down\n",
    "        time.sleep(4)\n",
    "\n",
    "    # save best models\n",
    "    if valid_iou[-1] >= 0:\n",
    "        best_iou = valid_iou[-1]\n",
    "        torch.save(seg_model.state_dict(), f'trained_models/seg_focal_dice_iou_rot_clr/seg_model_{epoch}.pth')\n",
    "\n"
   ]
  },
  {
   "cell_type": "markdown",
   "id": "3d244fba-2e09-473c-9cbc-076da01f6ba9",
   "metadata": {},
   "source": [
    "#### <font color='SpringGreen'>plot the training metrics</font> "
   ]
  },
  {
   "cell_type": "code",
   "execution_count": 96,
   "id": "e34dc1f6-b082-4104-8e9f-8d436c129653",
   "metadata": {},
   "outputs": [
    {
     "data": {
      "image/png": "[encoded data removed]",
      "text/plain": [
       "<Figure size 800x500 with 4 Axes>"
      ]
     },
     "metadata": {},
     "output_type": "display_data"
    }
   ],
   "source": [
    "fig, ax = plt.subplots(4, 1, figsize=(8, 5))\n",
    "ax[0].plot(np.arange(1, EPOCHS + 1), train_loss, label='train')\n",
    "ax[0].plot(np.arange(1, EPOCHS + 1), valid_loss, label='valid')\n",
    "ax[0].set_ylim([0,1])\n",
    "ax[0].set_title('loss')\n",
    "\n",
    "ax[1].plot(np.arange(1, EPOCHS + 1), train_accuracy)\n",
    "ax[1].plot(np.arange(1, EPOCHS + 1), valid_accuracy)\n",
    "ax[1].set_title('accuracy')\n",
    "\n",
    "ax[2].plot(np.arange(1, EPOCHS + 1), train_mcc)\n",
    "ax[2].plot(np.arange(1, EPOCHS + 1), valid_mcc)\n",
    "ax[2].set_title('mcc')\n",
    "\n",
    "ax[3].plot(np.arange(1, EPOCHS + 1), train_iou)\n",
    "ax[3].plot(np.arange(1, EPOCHS + 1), valid_iou)\n",
    "ax[3].set_title('iou')\n",
    "\n",
    "fig.legend(loc='upper right')\n",
    "plt.subplots_adjust(wspace=0., hspace=0.85)"
   ]
  },
  {
   "cell_type": "markdown",
   "id": "a2020a1a-004f-4fe1-a331-994c4795ed4a",
   "metadata": {},
   "source": [
    "#### <font color='SpringGreen'>Test the model</font> "
   ]
  },
  {
   "cell_type": "code",
   "execution_count": 105,
   "id": "8a59c8bd-c389-4e44-bebb-e50df1b0c021",
   "metadata": {},
   "outputs": [],
   "source": [
    "MODEL_PATH = 'trained_models/seg_focal_dice_iou_rot_clr/seg_model_10.pth'\n",
    "model=[]\n",
    "model = PointNetSegHead(num_points=NUM_TEST_POINTS, m=NUM_CLASSES).to(DEVICE)\n",
    "model.load_state_dict(torch.load(MODEL_PATH))\n",
    "model.eval();"
   ]
  },
  {
   "cell_type": "markdown",
   "id": "71c6a022-2589-4812-85e0-69a6494f8c54",
   "metadata": {},
   "source": [
    "#### <font color='SpringGreen'>Implement Quick test to gather metrics</font> "
   ]
  },
  {
   "cell_type": "code",
   "execution_count": 106,
   "id": "dad85c2f-344e-4d46-9d1e-ac0d46f8552c",
   "metadata": {},
   "outputs": [
    {
     "name": "stdout",
     "output_type": "stream",
     "text": [
      "\t [0/4] test loss: 2.2216 accuracy: 0.8517 mcc: -0.0300 iou: 0.7417\n"
     ]
    }
   ],
   "source": [
    "num_test_batch = int(np.ceil(len(data_test)/BATCH_SIZE))\n",
    "\n",
    "total_test_targets = []\n",
    "total_test_preds = [] \n",
    "\n",
    "with torch.no_grad():\n",
    "\n",
    "    # place model in evaluation mode\n",
    "    model = model.eval()\n",
    "\n",
    "    test_loss = []\n",
    "    test_accuracy = []\n",
    "    test_mcc = []\n",
    "    test_iou = []\n",
    "    for i, (points, targets) in enumerate(test_dataloader, 0):\n",
    "\n",
    "        points = points.transpose(2, 1).to(DEVICE)\n",
    "        targets = targets.squeeze().to(DEVICE)\n",
    "\n",
    "        preds, _, A = model(points)\n",
    "        pred_choice = torch.softmax(preds, dim=2).argmax(dim=2)\n",
    "\n",
    "        loss = criterion(preds, targets, pred_choice)\n",
    "\n",
    "        # get metrics\n",
    "        correct = pred_choice.eq(targets.data).cpu().sum()\n",
    "        accuracy = correct/float(BATCH_SIZE*NUM_TEST_POINTS)\n",
    "        mcc = mcc_metric(preds.transpose(2, 1), targets)\n",
    "        iou = compute_iou(targets, pred_choice)\n",
    "\n",
    "        # update epoch loss and accuracy\n",
    "        test_loss.append(loss.item())\n",
    "        test_accuracy.append(accuracy)\n",
    "        test_mcc.append(mcc.item())\n",
    "        test_iou.append(iou.item())\n",
    "\n",
    "        # add to total targets/preds\n",
    "        total_test_targets += targets.reshape(-1).cpu().numpy().tolist()\n",
    "        total_test_preds += pred_choice.reshape(-1).cpu().numpy().tolist()\n",
    "\n",
    "        if i % 50 == 0:\n",
    "            print(f'\\t [{i}/{num_test_batch}] ' \\\n",
    "                  + f'test loss: {loss.item():.4f} ' \\\n",
    "                  + f'accuracy: {accuracy:.4f} ' \\\n",
    "                  + f'mcc: {mcc:.4f} ' \\\n",
    "                  + f'iou: {iou:.4f}')"
   ]
  },
  {
   "cell_type": "markdown",
   "id": "eb4e39f4-f6df-435f-8ead-1e5f6c1d13aa",
   "metadata": {},
   "source": [
    "#### <font color='SpringGreen'>Display test results</font> "
   ]
  },
  {
   "cell_type": "code",
   "execution_count": 107,
   "id": "6bb1cdc9-6aa0-4940-b564-306088e8ec03",
   "metadata": {},
   "outputs": [
    {
     "name": "stdout",
     "output_type": "stream",
     "text": [
      "Test Loss: 43.6956 - Test Accuracy: 0.7095 - Test MCC: -0.0608 - Test IOU: 0.5972\n"
     ]
    }
   ],
   "source": [
    "# display test results\n",
    "print(f'Test Loss: {np.mean(test_loss):.4f} ' \\\n",
    "        + f'- Test Accuracy: {np.mean(test_accuracy):.4f} ' \\\n",
    "        + f'- Test MCC: {np.mean(test_mcc):.4f} ' \\\n",
    "        + f'- Test IOU: {np.mean(test_iou):.4f}')"
   ]
  },
  {
   "cell_type": "code",
   "execution_count": 108,
   "id": "028882b8-904f-4a0c-ace5-4a9aee05777d",
   "metadata": {},
   "outputs": [],
   "source": [
    "total_test_targets = np.array(total_test_targets)\n",
    "total_test_preds = np.array(total_test_preds)"
   ]
  },
  {
   "cell_type": "markdown",
   "id": "76087ed5-ba17-45d9-ab05-f72890bbf95e",
   "metadata": {},
   "source": [
    "#### <font color='SpringGreen'>Get Confusion Matrix for Test data</font> "
   ]
  },
  {
   "cell_type": "code",
   "execution_count": 109,
   "id": "6b8d2530-72d2-437c-a849-ce145bf7dd3e",
   "metadata": {},
   "outputs": [
    {
     "data": {
      "text/html": [
       "<div>\n",
       "<style scoped>\n",
       "    .dataframe tbody tr th:only-of-type {\n",
       "        vertical-align: middle;\n",
       "    }\n",
       "\n",
       "    .dataframe tbody tr th {\n",
       "        vertical-align: top;\n",
       "    }\n",
       "\n",
       "    .dataframe thead th {\n",
       "        text-align: right;\n",
       "    }\n",
       "</style>\n",
       "<table border=\"1\" class=\"dataframe\">\n",
       "  <thead>\n",
       "    <tr style=\"text-align: right;\">\n",
       "      <th></th>\n",
       "      <th>vessel</th>\n",
       "      <th>aneurysm</th>\n",
       "    </tr>\n",
       "  </thead>\n",
       "  <tbody>\n",
       "    <tr>\n",
       "      <th>vessel</th>\n",
       "      <td>55826</td>\n",
       "      <td>7970</td>\n",
       "    </tr>\n",
       "    <tr>\n",
       "      <th>aneurysm</th>\n",
       "      <td>11273</td>\n",
       "      <td>931</td>\n",
       "    </tr>\n",
       "  </tbody>\n",
       "</table>\n",
       "</div>"
      ],
      "text/plain": [
       "          vessel  aneurysm\n",
       "vessel     55826      7970\n",
       "aneurysm   11273       931"
      ]
     },
     "execution_count": 109,
     "metadata": {},
     "output_type": "execute_result"
    }
   ],
   "source": [
    "from sklearn.metrics import confusion_matrix\n",
    "\n",
    "test_confusion = pd.DataFrame(confusion_matrix(total_test_targets, total_test_preds),\n",
    "                              columns=list(CATEGORIES.keys()),\n",
    "                              index=list(CATEGORIES.keys()))\n",
    "\n",
    "test_confusion"
   ]
  },
  {
   "cell_type": "markdown",
   "id": "796ef91a-de18-4961-bdfd-c984879ce083",
   "metadata": {},
   "source": [
    "#### <font color='SpringGreen'>View test results on full space</font> "
   ]
  },
  {
   "cell_type": "code",
   "execution_count": 110,
   "id": "94a09ce5-3117-4fe7-b967-f0c45e537416",
   "metadata": {},
   "outputs": [
    {
     "ename": "ValueError",
     "evalue": "Expected input batch_size (1) to match target batch_size (4000).",
     "output_type": "error",
     "traceback": [
      "\u001b[1;31m---------------------------------------------------------------------------\u001b[0m",
      "\u001b[1;31mValueError\u001b[0m                                Traceback (most recent call last)",
      "Cell \u001b[1;32mIn[110], line 25\u001b[0m\n\u001b[0;32m     22\u001b[0m \u001b[38;5;66;03m# get metrics\u001b[39;00m\n\u001b[0;32m     23\u001b[0m pred_choice \u001b[38;5;241m=\u001b[39m torch\u001b[38;5;241m.\u001b[39msoftmax(preds, dim\u001b[38;5;241m=\u001b[39m\u001b[38;5;241m2\u001b[39m)\u001b[38;5;241m.\u001b[39margmax(dim\u001b[38;5;241m=\u001b[39m\u001b[38;5;241m2\u001b[39m)\n\u001b[1;32m---> 25\u001b[0m loss \u001b[38;5;241m=\u001b[39m \u001b[43mcriterion\u001b[49m\u001b[43m(\u001b[49m\u001b[43mpreds\u001b[49m\u001b[43m,\u001b[49m\u001b[43m \u001b[49m\u001b[43mtargets\u001b[49m\u001b[43m,\u001b[49m\u001b[43m \u001b[49m\u001b[43mpred_choice\u001b[49m\u001b[43m)\u001b[49m\n\u001b[0;32m     26\u001b[0m correct \u001b[38;5;241m=\u001b[39m pred_choice\u001b[38;5;241m.\u001b[39meq(targets\u001b[38;5;241m.\u001b[39mdata)\u001b[38;5;241m.\u001b[39mcpu()\u001b[38;5;241m.\u001b[39msum()\n\u001b[0;32m     27\u001b[0m accuracy \u001b[38;5;241m=\u001b[39m correct\u001b[38;5;241m/\u001b[39m\u001b[38;5;28mfloat\u001b[39m(points\u001b[38;5;241m.\u001b[39mshape[\u001b[38;5;241m0\u001b[39m]\u001b[38;5;241m*\u001b[39mNUM_TEST_POINTS)\n",
      "File \u001b[1;32m~\\miniconda3\\envs\\open3d\\lib\\site-packages\\torch\\nn\\modules\\module.py:1518\u001b[0m, in \u001b[0;36mModule._wrapped_call_impl\u001b[1;34m(self, *args, **kwargs)\u001b[0m\n\u001b[0;32m   1516\u001b[0m     \u001b[38;5;28;01mreturn\u001b[39;00m \u001b[38;5;28mself\u001b[39m\u001b[38;5;241m.\u001b[39m_compiled_call_impl(\u001b[38;5;241m*\u001b[39margs, \u001b[38;5;241m*\u001b[39m\u001b[38;5;241m*\u001b[39mkwargs)  \u001b[38;5;66;03m# type: ignore[misc]\u001b[39;00m\n\u001b[0;32m   1517\u001b[0m \u001b[38;5;28;01melse\u001b[39;00m:\n\u001b[1;32m-> 1518\u001b[0m     \u001b[38;5;28;01mreturn\u001b[39;00m \u001b[38;5;28mself\u001b[39m\u001b[38;5;241m.\u001b[39m_call_impl(\u001b[38;5;241m*\u001b[39margs, \u001b[38;5;241m*\u001b[39m\u001b[38;5;241m*\u001b[39mkwargs)\n",
      "File \u001b[1;32m~\\miniconda3\\envs\\open3d\\lib\\site-packages\\torch\\nn\\modules\\module.py:1527\u001b[0m, in \u001b[0;36mModule._call_impl\u001b[1;34m(self, *args, **kwargs)\u001b[0m\n\u001b[0;32m   1522\u001b[0m \u001b[38;5;66;03m# If we don't have any hooks, we want to skip the rest of the logic in\u001b[39;00m\n\u001b[0;32m   1523\u001b[0m \u001b[38;5;66;03m# this function, and just call forward.\u001b[39;00m\n\u001b[0;32m   1524\u001b[0m \u001b[38;5;28;01mif\u001b[39;00m \u001b[38;5;129;01mnot\u001b[39;00m (\u001b[38;5;28mself\u001b[39m\u001b[38;5;241m.\u001b[39m_backward_hooks \u001b[38;5;129;01mor\u001b[39;00m \u001b[38;5;28mself\u001b[39m\u001b[38;5;241m.\u001b[39m_backward_pre_hooks \u001b[38;5;129;01mor\u001b[39;00m \u001b[38;5;28mself\u001b[39m\u001b[38;5;241m.\u001b[39m_forward_hooks \u001b[38;5;129;01mor\u001b[39;00m \u001b[38;5;28mself\u001b[39m\u001b[38;5;241m.\u001b[39m_forward_pre_hooks\n\u001b[0;32m   1525\u001b[0m         \u001b[38;5;129;01mor\u001b[39;00m _global_backward_pre_hooks \u001b[38;5;129;01mor\u001b[39;00m _global_backward_hooks\n\u001b[0;32m   1526\u001b[0m         \u001b[38;5;129;01mor\u001b[39;00m _global_forward_hooks \u001b[38;5;129;01mor\u001b[39;00m _global_forward_pre_hooks):\n\u001b[1;32m-> 1527\u001b[0m     \u001b[38;5;28;01mreturn\u001b[39;00m forward_call(\u001b[38;5;241m*\u001b[39margs, \u001b[38;5;241m*\u001b[39m\u001b[38;5;241m*\u001b[39mkwargs)\n\u001b[0;32m   1529\u001b[0m \u001b[38;5;28;01mtry\u001b[39;00m:\n\u001b[0;32m   1530\u001b[0m     result \u001b[38;5;241m=\u001b[39m \u001b[38;5;28;01mNone\u001b[39;00m\n",
      "File \u001b[1;32m~\\point_net_loss.py:76\u001b[0m, in \u001b[0;36mPointNetSegLoss.forward\u001b[1;34m(self, predictions, targets, pred_choice)\u001b[0m\n\u001b[0;32m     73\u001b[0m \u001b[38;5;28;01mdef\u001b[39;00m \u001b[38;5;21mforward\u001b[39m(\u001b[38;5;28mself\u001b[39m, predictions, targets, pred_choice\u001b[38;5;241m=\u001b[39m\u001b[38;5;28;01mNone\u001b[39;00m):\n\u001b[0;32m     74\u001b[0m \n\u001b[0;32m     75\u001b[0m     \u001b[38;5;66;03m# get Balanced Cross Entropy Loss\u001b[39;00m\n\u001b[1;32m---> 76\u001b[0m     ce_loss \u001b[38;5;241m=\u001b[39m \u001b[38;5;28;43mself\u001b[39;49m\u001b[38;5;241;43m.\u001b[39;49m\u001b[43mcross_entropy_loss\u001b[49m\u001b[43m(\u001b[49m\u001b[43mpredictions\u001b[49m\u001b[38;5;241;43m.\u001b[39;49m\u001b[43mtranspose\u001b[49m\u001b[43m(\u001b[49m\u001b[38;5;241;43m2\u001b[39;49m\u001b[43m,\u001b[49m\u001b[43m \u001b[49m\u001b[38;5;241;43m1\u001b[39;49m\u001b[43m)\u001b[49m\u001b[43m,\u001b[49m\u001b[43m \u001b[49m\u001b[43mtargets\u001b[49m\u001b[43m)\u001b[49m\n\u001b[0;32m     78\u001b[0m     \u001b[38;5;66;03m# reformat predictions (b, n, c) -> (b*n, c)\u001b[39;00m\n\u001b[0;32m     79\u001b[0m     predictions \u001b[38;5;241m=\u001b[39m predictions\u001b[38;5;241m.\u001b[39mcontiguous() \\\n\u001b[0;32m     80\u001b[0m                              \u001b[38;5;241m.\u001b[39mview(\u001b[38;5;241m-\u001b[39m\u001b[38;5;241m1\u001b[39m, predictions\u001b[38;5;241m.\u001b[39msize(\u001b[38;5;241m2\u001b[39m)) \n",
      "File \u001b[1;32m~\\miniconda3\\envs\\open3d\\lib\\site-packages\\torch\\nn\\modules\\module.py:1518\u001b[0m, in \u001b[0;36mModule._wrapped_call_impl\u001b[1;34m(self, *args, **kwargs)\u001b[0m\n\u001b[0;32m   1516\u001b[0m     \u001b[38;5;28;01mreturn\u001b[39;00m \u001b[38;5;28mself\u001b[39m\u001b[38;5;241m.\u001b[39m_compiled_call_impl(\u001b[38;5;241m*\u001b[39margs, \u001b[38;5;241m*\u001b[39m\u001b[38;5;241m*\u001b[39mkwargs)  \u001b[38;5;66;03m# type: ignore[misc]\u001b[39;00m\n\u001b[0;32m   1517\u001b[0m \u001b[38;5;28;01melse\u001b[39;00m:\n\u001b[1;32m-> 1518\u001b[0m     \u001b[38;5;28;01mreturn\u001b[39;00m \u001b[38;5;28mself\u001b[39m\u001b[38;5;241m.\u001b[39m_call_impl(\u001b[38;5;241m*\u001b[39margs, \u001b[38;5;241m*\u001b[39m\u001b[38;5;241m*\u001b[39mkwargs)\n",
      "File \u001b[1;32m~\\miniconda3\\envs\\open3d\\lib\\site-packages\\torch\\nn\\modules\\module.py:1527\u001b[0m, in \u001b[0;36mModule._call_impl\u001b[1;34m(self, *args, **kwargs)\u001b[0m\n\u001b[0;32m   1522\u001b[0m \u001b[38;5;66;03m# If we don't have any hooks, we want to skip the rest of the logic in\u001b[39;00m\n\u001b[0;32m   1523\u001b[0m \u001b[38;5;66;03m# this function, and just call forward.\u001b[39;00m\n\u001b[0;32m   1524\u001b[0m \u001b[38;5;28;01mif\u001b[39;00m \u001b[38;5;129;01mnot\u001b[39;00m (\u001b[38;5;28mself\u001b[39m\u001b[38;5;241m.\u001b[39m_backward_hooks \u001b[38;5;129;01mor\u001b[39;00m \u001b[38;5;28mself\u001b[39m\u001b[38;5;241m.\u001b[39m_backward_pre_hooks \u001b[38;5;129;01mor\u001b[39;00m \u001b[38;5;28mself\u001b[39m\u001b[38;5;241m.\u001b[39m_forward_hooks \u001b[38;5;129;01mor\u001b[39;00m \u001b[38;5;28mself\u001b[39m\u001b[38;5;241m.\u001b[39m_forward_pre_hooks\n\u001b[0;32m   1525\u001b[0m         \u001b[38;5;129;01mor\u001b[39;00m _global_backward_pre_hooks \u001b[38;5;129;01mor\u001b[39;00m _global_backward_hooks\n\u001b[0;32m   1526\u001b[0m         \u001b[38;5;129;01mor\u001b[39;00m _global_forward_hooks \u001b[38;5;129;01mor\u001b[39;00m _global_forward_pre_hooks):\n\u001b[1;32m-> 1527\u001b[0m     \u001b[38;5;28;01mreturn\u001b[39;00m forward_call(\u001b[38;5;241m*\u001b[39margs, \u001b[38;5;241m*\u001b[39m\u001b[38;5;241m*\u001b[39mkwargs)\n\u001b[0;32m   1529\u001b[0m \u001b[38;5;28;01mtry\u001b[39;00m:\n\u001b[0;32m   1530\u001b[0m     result \u001b[38;5;241m=\u001b[39m \u001b[38;5;28;01mNone\u001b[39;00m\n",
      "File \u001b[1;32m~\\miniconda3\\envs\\open3d\\lib\\site-packages\\torch\\nn\\modules\\loss.py:1179\u001b[0m, in \u001b[0;36mCrossEntropyLoss.forward\u001b[1;34m(self, input, target)\u001b[0m\n\u001b[0;32m   1178\u001b[0m \u001b[38;5;28;01mdef\u001b[39;00m \u001b[38;5;21mforward\u001b[39m(\u001b[38;5;28mself\u001b[39m, \u001b[38;5;28minput\u001b[39m: Tensor, target: Tensor) \u001b[38;5;241m-\u001b[39m\u001b[38;5;241m>\u001b[39m Tensor:\n\u001b[1;32m-> 1179\u001b[0m     \u001b[38;5;28;01mreturn\u001b[39;00m \u001b[43mF\u001b[49m\u001b[38;5;241;43m.\u001b[39;49m\u001b[43mcross_entropy\u001b[49m\u001b[43m(\u001b[49m\u001b[38;5;28;43minput\u001b[39;49m\u001b[43m,\u001b[49m\u001b[43m \u001b[49m\u001b[43mtarget\u001b[49m\u001b[43m,\u001b[49m\u001b[43m \u001b[49m\u001b[43mweight\u001b[49m\u001b[38;5;241;43m=\u001b[39;49m\u001b[38;5;28;43mself\u001b[39;49m\u001b[38;5;241;43m.\u001b[39;49m\u001b[43mweight\u001b[49m\u001b[43m,\u001b[49m\n\u001b[0;32m   1180\u001b[0m \u001b[43m                           \u001b[49m\u001b[43mignore_index\u001b[49m\u001b[38;5;241;43m=\u001b[39;49m\u001b[38;5;28;43mself\u001b[39;49m\u001b[38;5;241;43m.\u001b[39;49m\u001b[43mignore_index\u001b[49m\u001b[43m,\u001b[49m\u001b[43m \u001b[49m\u001b[43mreduction\u001b[49m\u001b[38;5;241;43m=\u001b[39;49m\u001b[38;5;28;43mself\u001b[39;49m\u001b[38;5;241;43m.\u001b[39;49m\u001b[43mreduction\u001b[49m\u001b[43m,\u001b[49m\n\u001b[0;32m   1181\u001b[0m \u001b[43m                           \u001b[49m\u001b[43mlabel_smoothing\u001b[49m\u001b[38;5;241;43m=\u001b[39;49m\u001b[38;5;28;43mself\u001b[39;49m\u001b[38;5;241;43m.\u001b[39;49m\u001b[43mlabel_smoothing\u001b[49m\u001b[43m)\u001b[49m\n",
      "File \u001b[1;32m~\\miniconda3\\envs\\open3d\\lib\\site-packages\\torch\\nn\\functional.py:3053\u001b[0m, in \u001b[0;36mcross_entropy\u001b[1;34m(input, target, weight, size_average, ignore_index, reduce, reduction, label_smoothing)\u001b[0m\n\u001b[0;32m   3051\u001b[0m \u001b[38;5;28;01mif\u001b[39;00m size_average \u001b[38;5;129;01mis\u001b[39;00m \u001b[38;5;129;01mnot\u001b[39;00m \u001b[38;5;28;01mNone\u001b[39;00m \u001b[38;5;129;01mor\u001b[39;00m reduce \u001b[38;5;129;01mis\u001b[39;00m \u001b[38;5;129;01mnot\u001b[39;00m \u001b[38;5;28;01mNone\u001b[39;00m:\n\u001b[0;32m   3052\u001b[0m     reduction \u001b[38;5;241m=\u001b[39m _Reduction\u001b[38;5;241m.\u001b[39mlegacy_get_string(size_average, reduce)\n\u001b[1;32m-> 3053\u001b[0m \u001b[38;5;28;01mreturn\u001b[39;00m \u001b[43mtorch\u001b[49m\u001b[38;5;241;43m.\u001b[39;49m\u001b[43m_C\u001b[49m\u001b[38;5;241;43m.\u001b[39;49m\u001b[43m_nn\u001b[49m\u001b[38;5;241;43m.\u001b[39;49m\u001b[43mcross_entropy_loss\u001b[49m\u001b[43m(\u001b[49m\u001b[38;5;28;43minput\u001b[39;49m\u001b[43m,\u001b[49m\u001b[43m \u001b[49m\u001b[43mtarget\u001b[49m\u001b[43m,\u001b[49m\u001b[43m \u001b[49m\u001b[43mweight\u001b[49m\u001b[43m,\u001b[49m\u001b[43m \u001b[49m\u001b[43m_Reduction\u001b[49m\u001b[38;5;241;43m.\u001b[39;49m\u001b[43mget_enum\u001b[49m\u001b[43m(\u001b[49m\u001b[43mreduction\u001b[49m\u001b[43m)\u001b[49m\u001b[43m,\u001b[49m\u001b[43m \u001b[49m\u001b[43mignore_index\u001b[49m\u001b[43m,\u001b[49m\u001b[43m \u001b[49m\u001b[43mlabel_smoothing\u001b[49m\u001b[43m)\u001b[49m\n",
      "\u001b[1;31mValueError\u001b[0m: Expected input batch_size (1) to match target batch_size (4000)."
     ]
    }
   ],
   "source": [
    "torch.cuda.empty_cache() # release GPU memory\n",
    "points, targets = data_test.get_random_partitioned_space()\n",
    "\n",
    "# place on device\n",
    "points = points.to(DEVICE)\n",
    "targets = targets.to(DEVICE)\n",
    "\n",
    "# Normalize each partitioned Point Cloud to (0, 1)\n",
    "norm_points = points.clone()\n",
    "norm_points = norm_points - norm_points.min(axis=1)[0].unsqueeze(1)\n",
    "norm_points /= norm_points.max(axis=1)[0].unsqueeze(1)\n",
    "\n",
    "with torch.no_grad():\n",
    "\n",
    "    # prepare data\n",
    "    norm_points = norm_points.transpose(2, 1)\n",
    "    targets = targets.squeeze()\n",
    "\n",
    "    # run inference\n",
    "    preds, _, _ = model(norm_points)\n",
    "\n",
    "    # get metrics\n",
    "    pred_choice = torch.softmax(preds, dim=2).argmax(dim=2)\n",
    "\n",
    "    loss = criterion(preds, targets, pred_choice)\n",
    "    correct = pred_choice.eq(targets.data).cpu().sum()\n",
    "    accuracy = correct/float(points.shape[0]*NUM_TEST_POINTS)\n",
    "    mcc = mcc_metric(preds.transpose(2, 1), targets)\n",
    "    iou = compute_iou(targets, pred_choice)\n",
    "\n",
    "print(f'Loss: {loss:.4f} - Accuracy: {accuracy:.4f} - MCC: {mcc:.4f} - IOU: {iou:.4f}')"
   ]
  },
  {
   "cell_type": "code",
   "execution_count": 104,
   "id": "f12a9be3-a118-4fcf-b9d0-e3c131d45672",
   "metadata": {},
   "outputs": [
    {
     "ename": "ValueError",
     "evalue": "cannot call `vectorize` on size 0 inputs unless `otypes` is set",
     "output_type": "error",
     "traceback": [
      "\u001b[1;31m---------------------------------------------------------------------------\u001b[0m",
      "\u001b[1;31mValueError\u001b[0m                                Traceback (most recent call last)",
      "Cell \u001b[1;32mIn[104], line 3\u001b[0m\n\u001b[0;32m      1\u001b[0m pcd \u001b[38;5;241m=\u001b[39m o3\u001b[38;5;241m.\u001b[39mgeometry\u001b[38;5;241m.\u001b[39mPointCloud()\n\u001b[0;32m      2\u001b[0m pcd\u001b[38;5;241m.\u001b[39mpoints \u001b[38;5;241m=\u001b[39m o3\u001b[38;5;241m.\u001b[39mutility\u001b[38;5;241m.\u001b[39mVector3dVector(points\u001b[38;5;241m.\u001b[39mpermute(\u001b[38;5;241m2\u001b[39m, \u001b[38;5;241m0\u001b[39m, \u001b[38;5;241m1\u001b[39m)\u001b[38;5;241m.\u001b[39mreshape(\u001b[38;5;241m3\u001b[39m, \u001b[38;5;241m-\u001b[39m\u001b[38;5;241m1\u001b[39m)\u001b[38;5;241m.\u001b[39mto(\u001b[38;5;124m'\u001b[39m\u001b[38;5;124mcpu\u001b[39m\u001b[38;5;124m'\u001b[39m)\u001b[38;5;241m.\u001b[39mT)\n\u001b[1;32m----> 3\u001b[0m pcd\u001b[38;5;241m.\u001b[39mcolors \u001b[38;5;241m=\u001b[39m o3\u001b[38;5;241m.\u001b[39mutility\u001b[38;5;241m.\u001b[39mVector3dVector(np\u001b[38;5;241m.\u001b[39mvstack(\u001b[43mv_map_colors\u001b[49m\u001b[43m(\u001b[49m\u001b[43mtargets\u001b[49m\u001b[38;5;241;43m.\u001b[39;49m\u001b[43mreshape\u001b[49m\u001b[43m(\u001b[49m\u001b[38;5;241;43m-\u001b[39;49m\u001b[38;5;241;43m1\u001b[39;49m\u001b[43m)\u001b[49m\u001b[38;5;241;43m.\u001b[39;49m\u001b[43mto\u001b[49m\u001b[43m(\u001b[49m\u001b[38;5;124;43m'\u001b[39;49m\u001b[38;5;124;43mcpu\u001b[39;49m\u001b[38;5;124;43m'\u001b[39;49m\u001b[43m)\u001b[49m\u001b[43m)\u001b[49m)\u001b[38;5;241m.\u001b[39mT\u001b[38;5;241m/\u001b[39m\u001b[38;5;241m255\u001b[39m)\n\u001b[0;32m      4\u001b[0m o3\u001b[38;5;241m.\u001b[39mvisualization\u001b[38;5;241m.\u001b[39mdraw_geometries([pcd])\n",
      "File \u001b[1;32m~\\miniconda3\\envs\\open3d\\lib\\site-packages\\numpy\\lib\\function_base.py:2372\u001b[0m, in \u001b[0;36mvectorize.__call__\u001b[1;34m(self, *args, **kwargs)\u001b[0m\n\u001b[0;32m   2369\u001b[0m     \u001b[38;5;28mself\u001b[39m\u001b[38;5;241m.\u001b[39m_init_stage_2(\u001b[38;5;241m*\u001b[39margs, \u001b[38;5;241m*\u001b[39m\u001b[38;5;241m*\u001b[39mkwargs)\n\u001b[0;32m   2370\u001b[0m     \u001b[38;5;28;01mreturn\u001b[39;00m \u001b[38;5;28mself\u001b[39m\n\u001b[1;32m-> 2372\u001b[0m \u001b[38;5;28;01mreturn\u001b[39;00m \u001b[38;5;28mself\u001b[39m\u001b[38;5;241m.\u001b[39m_call_as_normal(\u001b[38;5;241m*\u001b[39margs, \u001b[38;5;241m*\u001b[39m\u001b[38;5;241m*\u001b[39mkwargs)\n",
      "File \u001b[1;32m~\\miniconda3\\envs\\open3d\\lib\\site-packages\\numpy\\lib\\function_base.py:2365\u001b[0m, in \u001b[0;36mvectorize._call_as_normal\u001b[1;34m(self, *args, **kwargs)\u001b[0m\n\u001b[0;32m   2362\u001b[0m     vargs \u001b[38;5;241m=\u001b[39m [args[_i] \u001b[38;5;28;01mfor\u001b[39;00m _i \u001b[38;5;129;01min\u001b[39;00m inds]\n\u001b[0;32m   2363\u001b[0m     vargs\u001b[38;5;241m.\u001b[39mextend([kwargs[_n] \u001b[38;5;28;01mfor\u001b[39;00m _n \u001b[38;5;129;01min\u001b[39;00m names])\n\u001b[1;32m-> 2365\u001b[0m \u001b[38;5;28;01mreturn\u001b[39;00m \u001b[38;5;28;43mself\u001b[39;49m\u001b[38;5;241;43m.\u001b[39;49m\u001b[43m_vectorize_call\u001b[49m\u001b[43m(\u001b[49m\u001b[43mfunc\u001b[49m\u001b[38;5;241;43m=\u001b[39;49m\u001b[43mfunc\u001b[49m\u001b[43m,\u001b[49m\u001b[43m \u001b[49m\u001b[43margs\u001b[49m\u001b[38;5;241;43m=\u001b[39;49m\u001b[43mvargs\u001b[49m\u001b[43m)\u001b[49m\n",
      "File \u001b[1;32m~\\miniconda3\\envs\\open3d\\lib\\site-packages\\numpy\\lib\\function_base.py:2450\u001b[0m, in \u001b[0;36mvectorize._vectorize_call\u001b[1;34m(self, func, args)\u001b[0m\n\u001b[0;32m   2448\u001b[0m     res \u001b[38;5;241m=\u001b[39m func()\n\u001b[0;32m   2449\u001b[0m \u001b[38;5;28;01melse\u001b[39;00m:\n\u001b[1;32m-> 2450\u001b[0m     ufunc, otypes \u001b[38;5;241m=\u001b[39m \u001b[38;5;28;43mself\u001b[39;49m\u001b[38;5;241;43m.\u001b[39;49m\u001b[43m_get_ufunc_and_otypes\u001b[49m\u001b[43m(\u001b[49m\u001b[43mfunc\u001b[49m\u001b[38;5;241;43m=\u001b[39;49m\u001b[43mfunc\u001b[49m\u001b[43m,\u001b[49m\u001b[43m \u001b[49m\u001b[43margs\u001b[49m\u001b[38;5;241;43m=\u001b[39;49m\u001b[43margs\u001b[49m\u001b[43m)\u001b[49m\n\u001b[0;32m   2452\u001b[0m     \u001b[38;5;66;03m# Convert args to object arrays first\u001b[39;00m\n\u001b[0;32m   2453\u001b[0m     inputs \u001b[38;5;241m=\u001b[39m [asanyarray(a, dtype\u001b[38;5;241m=\u001b[39m\u001b[38;5;28mobject\u001b[39m) \u001b[38;5;28;01mfor\u001b[39;00m a \u001b[38;5;129;01min\u001b[39;00m args]\n",
      "File \u001b[1;32m~\\miniconda3\\envs\\open3d\\lib\\site-packages\\numpy\\lib\\function_base.py:2406\u001b[0m, in \u001b[0;36mvectorize._get_ufunc_and_otypes\u001b[1;34m(self, func, args)\u001b[0m\n\u001b[0;32m   2404\u001b[0m args \u001b[38;5;241m=\u001b[39m [asarray(arg) \u001b[38;5;28;01mfor\u001b[39;00m arg \u001b[38;5;129;01min\u001b[39;00m args]\n\u001b[0;32m   2405\u001b[0m \u001b[38;5;28;01mif\u001b[39;00m builtins\u001b[38;5;241m.\u001b[39many(arg\u001b[38;5;241m.\u001b[39msize \u001b[38;5;241m==\u001b[39m \u001b[38;5;241m0\u001b[39m \u001b[38;5;28;01mfor\u001b[39;00m arg \u001b[38;5;129;01min\u001b[39;00m args):\n\u001b[1;32m-> 2406\u001b[0m     \u001b[38;5;28;01mraise\u001b[39;00m \u001b[38;5;167;01mValueError\u001b[39;00m(\u001b[38;5;124m'\u001b[39m\u001b[38;5;124mcannot call `vectorize` on size 0 inputs \u001b[39m\u001b[38;5;124m'\u001b[39m\n\u001b[0;32m   2407\u001b[0m                      \u001b[38;5;124m'\u001b[39m\u001b[38;5;124munless `otypes` is set\u001b[39m\u001b[38;5;124m'\u001b[39m)\n\u001b[0;32m   2409\u001b[0m inputs \u001b[38;5;241m=\u001b[39m [arg\u001b[38;5;241m.\u001b[39mflat[\u001b[38;5;241m0\u001b[39m] \u001b[38;5;28;01mfor\u001b[39;00m arg \u001b[38;5;129;01min\u001b[39;00m args]\n\u001b[0;32m   2410\u001b[0m outputs \u001b[38;5;241m=\u001b[39m func(\u001b[38;5;241m*\u001b[39minputs)\n",
      "\u001b[1;31mValueError\u001b[0m: cannot call `vectorize` on size 0 inputs unless `otypes` is set"
     ]
    }
   ],
   "source": [
    "pcd = o3.geometry.PointCloud()\n",
    "pcd.points = o3.utility.Vector3dVector(points.permute(2, 0, 1).reshape(3, -1).to('cpu').T)\n",
    "pcd.colors = o3.utility.Vector3dVector(np.vstack(v_map_colors(targets.reshape(-1).to('cpu'))).T/255)\n",
    "o3.visualization.draw_geometries([pcd])"
   ]
  },
  {
   "cell_type": "code",
   "execution_count": null,
   "id": "c333e8c2-e624-4987-baa5-2de3659a587c",
   "metadata": {},
   "outputs": [],
   "source": [
    "pcd = o3.geometry.PointCloud()\n",
    "pcd.points = o3.utility.Vector3dVector(points.permute(2, 0, 1).reshape(3, -1).to('cpu').T)\n",
    "pcd.colors = o3.utility.Vector3dVector(np.vstack(v_map_colors(pred_choice.reshape(-1).to('cpu'))).T/255)\n",
    "o3.visualization.draw_geometries([pcd])"
   ]
  },
  {
   "cell_type": "code",
   "execution_count": null,
   "id": "13f36ded-48de-46a9-b587-f5af64c5fcbd",
   "metadata": {},
   "outputs": [],
   "source": []
  }
 ],
 "metadata": {
  "kernelspec": {
   "display_name": "Python 3 (ipykernel)",
   "language": "python",
   "name": "python3"
  },
  "language_info": {
   "codemirror_mode": {
    "name": "ipython",
    "version": 3
   },
   "file_extension": ".py",
   "mimetype": "text/x-python",
   "name": "python",
   "nbconvert_exporter": "python",
   "pygments_lexer": "ipython3",
   "version": "3.9.18"
  }
 },
 "nbformat": 4,
 "nbformat_minor": 5
}
