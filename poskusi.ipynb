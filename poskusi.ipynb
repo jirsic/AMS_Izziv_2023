{
 "cells": [
  {
   "cell_type": "code",
   "execution_count": 1,
   "metadata": {},
   "outputs": [
    {
     "name": "stdout",
     "output_type": "stream",
     "text": [
      "Jupyter environment detected. Enabling Open3D WebVisualizer.\n",
      "[Open3D INFO] WebRTC GUI backend enabled.\n",
      "[Open3D INFO] WebRTCWindowSystem: HTTP handshake server disabled.\n"
     ]
    }
   ],
   "source": [
    "from fun import func\n",
    "import probFun\n",
    "\n",
    "path='Registration cases'\n",
    "\n",
    "n1=func(path)"
   ]
  },
  {
   "cell_type": "code",
   "execution_count": 2,
   "metadata": {},
   "outputs": [
    {
     "name": "stdout",
     "output_type": "stream",
     "text": [
      "Loaded file:  Case_01_CTA_PT00109_20101117.obj\n",
      "Loaded file:  Case_01_CTA_PT00109_20130905.obj\n",
      "Loaded file:  Case_01_CTA_PT00109_20151218.obj\n",
      "Loaded file:  Case_02_CTA_PT00266_20101203.obj\n",
      "Loaded file:  Case_02_CTA_PT00266_20150819.obj\n",
      "Loaded file:  Case_03_CTA_PT00274_20090105.obj\n",
      "Loaded file:  Case_03_CTA_PT00274_20151014.obj\n",
      "Loaded file:  Case_04_CTA_PT00268_20100714.obj\n",
      "Loaded file:  Case_04_CTA_PT00268_20151105.obj\n",
      "Loaded file:  Case_05_CTA_PT00007_20120504.obj\n",
      "Loaded file:  Case_05_CTA_PT00007_20180914.obj\n",
      "Loaded file:  Case_06_CTA_PT00011_20200731.obj\n",
      "Loaded file:  Case_06_CTA_PT00011_20201027.obj\n",
      "Loaded file:  Case_07_CTA_PT00018_20140925.obj\n",
      "Loaded file:  Case_07_CTA_PT00018_20200701.obj\n",
      "Loaded file:  Case_08_CTA_PT00021_20121107.obj\n",
      "Loaded file:  Case_08_CTA_PT00021_20200507.obj\n",
      "Loaded file:  Case_09_CTA_PT00029_20120314.obj\n",
      "Loaded file:  Case_09_CTA_PT00029_20190821.obj\n",
      "Loaded file:  Case_10_CTA_PT00051_20090409.obj\n",
      "Loaded file:  Case_10_CTA_PT00051_20111219.obj\n",
      "Loaded file:  Case_10_CTA_PT00051_20140108.obj\n",
      "Loaded file:  Case_10_CTA_PT00051_20160120.obj\n",
      "Loaded file:  Case_10_CTA_PT00051_20190812.obj\n",
      "Loaded file:  Case_11_CTA_PT00056_20171114.obj\n",
      "Loaded file:  Case_11_CTA_PT00056_20190716.obj\n",
      "Loaded file:  Case_12_CTA_PT00081_20100218.obj\n",
      "Loaded file:  Case_12_CTA_PT00081_20120204.obj\n",
      "Loaded file:  Case_13_CTA_PT00087_20161109.obj\n",
      "Loaded file:  Case_13_CTA_PT00087_20180320.obj\n",
      "Loaded file:  Case_13_CTA_PT00087_20190318.obj\n",
      "Loaded file:  Case_14_CTA_PT00109_20101117.obj\n",
      "Loaded file:  Case_14_CTA_PT00109_20130905.obj\n",
      "Loaded file:  Case_14_CTA_PT00109_20151218.obj\n",
      "Loaded file:  Case_14_CTA_PT00109_20180820.obj\n",
      "Loaded file:  Case_15_CTA_PT00112_20180722.obj\n",
      "Loaded file:  Case_15_CTA_PT00112_20210908.obj\n",
      "Loaded file:  Case_16_CTA_PT00139_20070503.obj\n",
      "Loaded file:  Case_16_CTA_PT00139_20150112.obj\n",
      "Loaded file:  Case_16_CTA_PT00139_20170801.obj\n",
      "Loaded file:  Case_17_CTA_PT00157_20040110.obj\n",
      "Loaded file:  Case_17_CTA_PT00157_20080725.obj\n",
      "Loaded file:  Case_17_CTA_PT00157_20121206.obj\n",
      "Loaded file:  Case_17_CTA_PT00157_20170302.obj\n",
      "Loaded file:  Case_18_CTA_PT00218_20161113.obj\n",
      "Loaded file:  Case_18_CTA_PT00218_20210608.obj\n",
      "Loaded file:  Case_19_CTA_PT00242_20071223.obj\n",
      "Loaded file:  Case_19_CTA_PT00242_20111119.obj\n",
      "Loaded file:  Case_19_CTA_PT00242_20141230.obj\n",
      "Loaded file:  Case_20_CTA_PT00255_20131108.obj\n",
      "Loaded file:  Case_20_CTA_PT00255_20150827.obj\n",
      "Loaded file:  Case_21_CTA_PT00281_20100801.obj\n",
      "Loaded file:  Case_21_CTA_PT00281_20150317.obj\n",
      "Loaded file:  Case_22_CTA_PT00317_20080211.obj\n",
      "Loaded file:  Case_22_CTA_PT00317_20140710.obj\n",
      "Loaded file:  Case_23_CTA_PT00355_20131003.obj\n",
      "Loaded file:  Case_23_CTA_PT00355_20211108.obj\n",
      "Loaded file:  Case_24_CTA_PT00416_20120508.obj\n",
      "Loaded file:  Case_24_CTA_PT00416_20190321.obj\n",
      "Loaded file:  Case_25_CTA_PT00479_20111107.obj\n",
      "Loaded file:  Case_25_CTA_PT00479_20170919.obj\n",
      "Directory reading finished\n",
      "Indexes of first case procedures:  [0, 3, 5, 7, 9, 11, 13, 15, 17, 19, 24, 26, 28, 31, 35, 37, 40, 44, 46, 49, 51, 53, 55, 57, 59]\n"
     ]
    }
   ],
   "source": [
    "fileNames, relFilePaths, indexes=n1.load_dirData(path)"
   ]
  },
  {
   "cell_type": "code",
   "execution_count": 3,
   "metadata": {},
   "outputs": [
    {
     "name": "stdout",
     "output_type": "stream",
     "text": [
      "Computing transformation matrix 1/3\n",
      "Computing transformation matrix 2/3\n",
      "Computing transformation matrix 3/3\n"
     ]
    }
   ],
   "source": [
    "trsMatrices, sourceMesh, targetMeshes=n1.load_selCases(relFilePaths, indexes, '15')"
   ]
  },
  {
   "cell_type": "code",
   "execution_count": 4,
   "metadata": {},
   "outputs": [],
   "source": [
    "resultMeshes=n1.apply_transformations(trsMatrices, sourceMesh)"
   ]
  },
  {
   "cell_type": "code",
   "execution_count": 5,
   "metadata": {},
   "outputs": [],
   "source": [
    "n1.show_transformedMeshes(sourceMesh, targetMeshes, resultMeshes)"
   ]
  },
  {
   "cell_type": "code",
   "execution_count": null,
   "metadata": {},
   "outputs": [],
   "source": []
  }
 ],
 "metadata": {
  "kernelspec": {
   "display_name": "Python 3",
   "language": "python",
   "name": "python3"
  },
  "language_info": {
   "codemirror_mode": {
    "name": "ipython",
    "version": 3
   },
   "file_extension": ".py",
   "mimetype": "text/x-python",
   "name": "python",
   "nbconvert_exporter": "python",
   "pygments_lexer": "ipython3",
   "version": "3.11.6"
  }
 },
 "nbformat": 4,
 "nbformat_minor": 2
}
