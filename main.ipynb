{
 "cells": [
  {
   "cell_type": "code",
   "execution_count": 2,
   "metadata": {},
   "outputs": [],
   "source": [
    "import os\n",
    "import trimesh\n",
    "import numpy as np\n",
    "import open3d as o3d\n",
    "import matplotlib.pyplot as plt\n",
    "from simpleicp import PointCloud, SimpleICP\n",
    "import copy"
   ]
  },
  {
   "cell_type": "code",
   "execution_count": 2,
   "metadata": {},
   "outputs": [],
   "source": [
    "path='Registration Cases'\n",
    "dirList=os.listdir(path)\n",
    "fNames=[]\n",
    "idx=[0]\n",
    "i=0\n",
    "\n",
    "for file in dirList:\n",
    "    if file.endswith(\".obj\"):\n",
    "        fNames.append(file)\n",
    "        if fNames[i-1][5:7]!=fNames[i][5:7]:\n",
    "            idx.append(i)\n",
    "        i+=1"
   ]
  },
  {
   "cell_type": "code",
   "execution_count": 3,
   "metadata": {},
   "outputs": [
    {
     "name": "stdout",
     "output_type": "stream",
     "text": [
      "[0, 3, 5, 7, 9, 11, 13, 15, 17, 19, 24, 26, 28, 31, 35, 37, 40, 44, 46, 49, 51, 53, 55, 57, 59]\n"
     ]
    }
   ],
   "source": [
    "print(idx)"
   ]
  },
  {
   "cell_type": "code",
   "execution_count": 12,
   "metadata": {},
   "outputs": [],
   "source": [
    "pcd1 = o3d.io.read_triangle_mesh(\"C:/Users/jerne/Desktop/Faks/2_Stopnja/2_Letnik/Analiza medicinskih slik/AMS_Izziv_2023/Registration Cases/Case_07_CTA_PT00018_20140925.obj\")\n",
    "pcd2 = o3d.io.read_triangle_mesh(\"C:/Users/jerne/Desktop/Faks/2_Stopnja/2_Letnik/Analiza medicinskih slik/AMS_Izziv_2023/Registration Cases/Case_07_CTA_PT00018_20200701.obj\")\n",
    "pcd3 = o3d.io.read_triangle_mesh(\"C:/Users/jerne/Desktop/Faks/2_Stopnja/2_Letnik/Analiza medicinskih slik/AMS_Izziv_2023/Registration Cases/Case_01_CTA_PT00109_20151218.obj\")"
   ]
  },
  {
   "cell_type": "code",
   "execution_count": 13,
   "metadata": {},
   "outputs": [],
   "source": [
    "o3d.visualization.draw_geometries([pcd1, pcd2])"
   ]
  },
  {
   "cell_type": "code",
   "execution_count": 9,
   "metadata": {},
   "outputs": [
    {
     "ename": "TypeError",
     "evalue": "registration_icp(): incompatible function arguments. The following argument types are supported:\n    1. (source: open3d.cpu.pybind.geometry.PointCloud, target: open3d.cpu.pybind.geometry.PointCloud, max_correspondence_distance: float, init: numpy.ndarray[numpy.float64[4, 4]] = array([[1., 0., 0., 0.],\n       [0., 1., 0., 0.],\n       [0., 0., 1., 0.],\n       [0., 0., 0., 1.]]), estimation_method: open3d.cpu.pybind.pipelines.registration.TransformationEstimation = TransformationEstimationPointToPoint without scaling., criteria: open3d.cpu.pybind.pipelines.registration.ICPConvergenceCriteria = ICPConvergenceCriteria class with relative_fitness=1.000000e-06, relative_rmse=1.000000e-06, and max_iteration=30) -> open3d.cpu.pybind.pipelines.registration.RegistrationResult\n\nInvoked with: TriangleMesh with 4000 points and 7914 triangles., TriangleMesh with 5000 points and 9903 triangles., 0.02, array([[1., 0., 0., 0.],\n       [0., 1., 0., 0.],\n       [0., 0., 1., 0.],\n       [0., 0., 0., 1.]]), TransformationEstimationPointToPoint without scaling.",
     "output_type": "error",
     "traceback": [
      "\u001b[1;31m---------------------------------------------------------------------------\u001b[0m",
      "\u001b[1;31mTypeError\u001b[0m                                 Traceback (most recent call last)",
      "\u001b[1;32mc:\\Users\\jerne\\Desktop\\Faks\\2_Stopnja\\2_Letnik\\Analiza medicinskih slik\\AMS_Izziv_2023\\main.ipynb Cell 6\u001b[0m line \u001b[0;36m3\n\u001b[0;32m      <a href='vscode-notebook-cell:/c%3A/Users/jerne/Desktop/Faks/2_Stopnja/2_Letnik/Analiza%20medicinskih%20slik/AMS_Izziv_2023/main.ipynb#W5sZmlsZQ%3D%3D?line=0'>1</a>\u001b[0m threshold\u001b[39m=\u001b[39m\u001b[39m0.02\u001b[39m\n\u001b[0;32m      <a href='vscode-notebook-cell:/c%3A/Users/jerne/Desktop/Faks/2_Stopnja/2_Letnik/Analiza%20medicinskih%20slik/AMS_Izziv_2023/main.ipynb#W5sZmlsZQ%3D%3D?line=1'>2</a>\u001b[0m trans_init\u001b[39m=\u001b[39mnp\u001b[39m.\u001b[39marray([[\u001b[39m1.\u001b[39m, \u001b[39m0.\u001b[39m, \u001b[39m0.\u001b[39m, \u001b[39m0.\u001b[39m], [\u001b[39m0.\u001b[39m, \u001b[39m1.\u001b[39m, \u001b[39m0.\u001b[39m, \u001b[39m0.\u001b[39m], [\u001b[39m0.\u001b[39m, \u001b[39m0.\u001b[39m, \u001b[39m1.\u001b[39m, \u001b[39m0.\u001b[39m], [\u001b[39m0.\u001b[39m, \u001b[39m0.\u001b[39m, \u001b[39m0.\u001b[39m, \u001b[39m1.\u001b[39m]])\n\u001b[1;32m----> <a href='vscode-notebook-cell:/c%3A/Users/jerne/Desktop/Faks/2_Stopnja/2_Letnik/Analiza%20medicinskih%20slik/AMS_Izziv_2023/main.ipynb#W5sZmlsZQ%3D%3D?line=2'>3</a>\u001b[0m reg_p2p \u001b[39m=\u001b[39m o3d\u001b[39m.\u001b[39;49mpipelines\u001b[39m.\u001b[39;49mregistration\u001b[39m.\u001b[39;49mregistration_icp(\n\u001b[0;32m      <a href='vscode-notebook-cell:/c%3A/Users/jerne/Desktop/Faks/2_Stopnja/2_Letnik/Analiza%20medicinskih%20slik/AMS_Izziv_2023/main.ipynb#W5sZmlsZQ%3D%3D?line=3'>4</a>\u001b[0m     pcd1, pcd2, threshold, trans_init,\n\u001b[0;32m      <a href='vscode-notebook-cell:/c%3A/Users/jerne/Desktop/Faks/2_Stopnja/2_Letnik/Analiza%20medicinskih%20slik/AMS_Izziv_2023/main.ipynb#W5sZmlsZQ%3D%3D?line=4'>5</a>\u001b[0m     o3d\u001b[39m.\u001b[39;49mpipelines\u001b[39m.\u001b[39;49mregistration\u001b[39m.\u001b[39;49mTransformationEstimationPointToPoint())\n",
      "\u001b[1;31mTypeError\u001b[0m: registration_icp(): incompatible function arguments. The following argument types are supported:\n    1. (source: open3d.cpu.pybind.geometry.PointCloud, target: open3d.cpu.pybind.geometry.PointCloud, max_correspondence_distance: float, init: numpy.ndarray[numpy.float64[4, 4]] = array([[1., 0., 0., 0.],\n       [0., 1., 0., 0.],\n       [0., 0., 1., 0.],\n       [0., 0., 0., 1.]]), estimation_method: open3d.cpu.pybind.pipelines.registration.TransformationEstimation = TransformationEstimationPointToPoint without scaling., criteria: open3d.cpu.pybind.pipelines.registration.ICPConvergenceCriteria = ICPConvergenceCriteria class with relative_fitness=1.000000e-06, relative_rmse=1.000000e-06, and max_iteration=30) -> open3d.cpu.pybind.pipelines.registration.RegistrationResult\n\nInvoked with: TriangleMesh with 4000 points and 7914 triangles., TriangleMesh with 5000 points and 9903 triangles., 0.02, array([[1., 0., 0., 0.],\n       [0., 1., 0., 0.],\n       [0., 0., 1., 0.],\n       [0., 0., 0., 1.]]), TransformationEstimationPointToPoint without scaling."
     ]
    }
   ],
   "source": [
    "threshold=0.02\n",
    "trans_init=np.array([[1., 0., 0., 0.], [0., 1., 0., 0.], [0., 0., 1., 0.], [0., 0., 0., 1.]])\n"
   ]
  },
  {
   "cell_type": "code",
   "execution_count": 33,
   "metadata": {},
   "outputs": [
    {
     "name": "stdout",
     "output_type": "stream",
     "text": [
      "[Open3D WARNING] GLFW Error: WGL: Failed to make context current: The handle is invalid. \n"
     ]
    }
   ],
   "source": [
    "trans=([[ 9.99984348e-001,  1.83939868e-003,  5.25044355e-003,  1.48177573e+001],\n",
    " [-4.10493722e-004,  9.65584446e-001, -2.60089421e-001,  1.14128198e+002],\n",
    " [-5.54818860e-003,  2.60083243e-001,  9.65570257e-001, -10.54091766e+002],\n",
    " [ 5.96083817e+175,  5.98193034e-154,  5.25441450e-091,  1.00000000e+000]])\n",
    "\n",
    "pcd1 = o3d.io.read_triangle_mesh(\"C:/Users/jerne/Desktop/Faks/2_Stopnja/2_Letnik/Analiza medicinskih slik/AMS_Izziv_2023/Registration Cases/Case_07_CTA_PT00018_20140925.obj\")\n",
    "pcd2 = o3d.io.read_triangle_mesh(\"C:/Users/jerne/Desktop/Faks/2_Stopnja/2_Letnik/Analiza medicinskih slik/AMS_Izziv_2023/Registration Cases/Case_07_CTA_PT00018_20200701.obj\")\n",
    "\n",
    "mesh_t = copy.deepcopy(pcd2).transform(trans)\n",
    "#o3d.visualization.draw_geometries([pcd1, mesh_t])\n",
    "\n",
    "o3d.visualization.draw_geometries([pcd1, mesh_t])\n"
   ]
  },
  {
   "cell_type": "code",
   "execution_count": null,
   "metadata": {},
   "outputs": [],
   "source": []
  }
 ],
 "metadata": {
  "kernelspec": {
   "display_name": "Python 3",
   "language": "python",
   "name": "python3"
  },
  "language_info": {
   "codemirror_mode": {
    "name": "ipython",
    "version": 3
   },
   "file_extension": ".py",
   "mimetype": "text/x-python",
   "name": "python",
   "nbconvert_exporter": "python",
   "pygments_lexer": "ipython3",
   "version": "3.11.6"
  }
 },
 "nbformat": 4,
 "nbformat_minor": 2
}
